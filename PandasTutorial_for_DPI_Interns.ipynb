{
  "nbformat": 4,
  "nbformat_minor": 0,
  "metadata": {
    "colab": {
      "provenance": [],
      "include_colab_link": true
    },
    "kernelspec": {
      "name": "python3",
      "display_name": "Python 3"
    },
    "language_info": {
      "name": "python"
    }
  },
  "cells": [
    {
      "cell_type": "markdown",
      "metadata": {
        "id": "view-in-github",
        "colab_type": "text"
      },
      "source": [
        "<a href=\"https://colab.research.google.com/github/nanselmo/dc-data/blob/main/PandasTutorial_for_DPI_Interns.ipynb\" target=\"_parent\"><img src=\"https://colab.research.google.com/assets/colab-badge.svg\" alt=\"Open In Colab\"/></a>"
      ]
    },
    {
      "cell_type": "markdown",
      "metadata": {
        "id": "ZbYeLBO5pAd8"
      },
      "source": [
        "# Welcome to Computational Data with Python Pandas"
      ]
    },
    {
      "cell_type": "markdown",
      "metadata": {
        "id": "Nsqt5IyEpFpU"
      },
      "source": [
        "Let's start be reading the [data dictionary](https://github.com/fivethirtyeight/data/tree/master/candy-power-ranking) for this candy dataset.\n",
        "First we need to install the pandas code into our workspace by using the keyword `import`. We'll also give the pandas library a nickname, `pd`"
      ]
    },
    {
      "cell_type": "code",
      "metadata": {
        "id": "Qj5U5ntSXYQk"
      },
      "source": [
        "#tell our notebook to get the pandas library and to give it a nickname: 'pd'\n",
        "import pandas as pd"
      ],
      "execution_count": null,
      "outputs": []
    },
    {
      "cell_type": "code",
      "metadata": {
        "id": "fDg2bAE4XdNp"
      },
      "source": [
        "candy_df = pd.read_csv(\"https://raw.githubusercontent.com/nanselmo/dc-data/main/Candy-Power-Ranking.csv\")\n"
      ],
      "execution_count": null,
      "outputs": []
    },
    {
      "cell_type": "markdown",
      "metadata": {
        "id": "rj-fAf36i1qe"
      },
      "source": [
        "#0. View the Data\n",
        "Use the `.head()` method to view the data.\n",
        "\n",
        "`.head()` takes 1 optional parameter, the number of rows to show. If you don't include any parameter, the default number of rows is 5.\n",
        "\n",
        "Example: `df.head()`"
      ]
    },
    {
      "cell_type": "code",
      "metadata": {
        "id": "GodEvPT4pYj-"
      },
      "source": [
        "#talk about methods and parameters here\n"
      ],
      "execution_count": null,
      "outputs": []
    },
    {
      "cell_type": "markdown",
      "metadata": {
        "id": "ShiiRQvXbIGj"
      },
      "source": [
        "#1. Describe the Data\n",
        "Use `.describe()` to show a summary of the data. The `describe()` method does not need any parameters\n",
        "\n",
        "Example: `df.describe()`\n"
      ]
    },
    {
      "cell_type": "code",
      "metadata": {
        "id": "jSxlv1aiaSU_"
      },
      "source": [
        "#describe the candy_df\n",
        "\n"
      ],
      "execution_count": null,
      "outputs": []
    },
    {
      "cell_type": "markdown",
      "metadata": {
        "id": "gvyh_MU6bgCM"
      },
      "source": [
        "# 2. Sort the Data\n",
        " Use `.sort_values()` which takes two parameters:\n",
        "* by: the header of the column you want to sort with - should be put in quotes as a string\n",
        "* ascending: can set to True or False, the default is that ascending is True (from smallest to largest, or A to Z)\n",
        "\n",
        "Example: `df.sort_values(by=\"Column1\", ascending=False)`"
      ]
    },
    {
      "cell_type": "code",
      "metadata": {
        "id": "u18UcgsmZlcM"
      },
      "source": [
        "#Sort the Data to find the three candies with the highest win percent\n",
        "\n",
        "\n",
        "#Sort to find the candy with the lowest sugar percent ()\n"
      ],
      "execution_count": null,
      "outputs": []
    },
    {
      "cell_type": "code",
      "metadata": {
        "id": "c5gThB9IdO9A"
      },
      "source": [],
      "execution_count": null,
      "outputs": []
    },
    {
      "cell_type": "markdown",
      "metadata": {
        "id": "KsUgfAQOdPbA"
      },
      "source": [
        "# 3. Find the Average Of A Grouping of Data\n",
        "\n",
        "The `groupby()` method allows you to split your DataFrame into groups and apply a function to each of those groups independently, and then combine those results back into a single DataFrame.\n",
        "\n",
        "Use `.groupby()` and `.mean()` to group data together and get the mean of that grouped data.\n",
        "* `groupby()` - takes 1 parameter, the header name of the column you want to group your data on\n",
        "* `mean()` - doesn't need any parameters\n",
        "\n",
        "**Importantly, when using applying numeric functions, all of the columns in the DataFrame must be numeric.**\n",
        "\n",
        "Example: `df.groupby(\"ColumnName\").mean()`\n",
        "\n",
        "\n"
      ]
    },
    {
      "cell_type": "code",
      "metadata": {
        "id": "wBqTUQrOeHEG"
      },
      "source": [
        "#Create a new dataframe with only numeric values\n",
        "\n",
        "\n",
        "#Group all of the chocolate candy together to gain insight into the characteristics, win percent, sugar percent and price percent of Chocolate candy vs non-chocolate candy\n",
        "\n",
        "\n",
        "#Group the bar candy together to see how candy bars compare to non candy-bars (ie M&Ms, Tootsie Pops)\n"
      ],
      "execution_count": null,
      "outputs": []
    },
    {
      "cell_type": "markdown",
      "metadata": {
        "id": "S_vHGrsSecHP"
      },
      "source": [
        "# 4. Visualize Data\n",
        "Use `.plot()` to create a quick graph of the data. `.plot()` takes three parameters:\n",
        "* x - the value on the X axis, the independent variable\n",
        "* y - the value on the Y axis, the dependent variable\n",
        "* kind - the kind of chart. In this workshop we'll use \"scatter\"\n",
        "\n",
        "Example: `df.plot(x=\"Time\", y=\"Profit\", kind=\"scatter\")`"
      ]
    },
    {
      "cell_type": "code",
      "metadata": {
        "id": "WhdJro7aVl6U"
      },
      "source": [
        "#Visualize Data to see if there's a relationship between sugar percentage and win percentage. What about price percent and win percentage?\n"
      ],
      "execution_count": null,
      "outputs": []
    },
    {
      "cell_type": "markdown",
      "source": [
        "# 4B. Visualize Data - Bonus\n",
        "Typically, pandas used 'matplotlib' plots for static plots. But as of recent updates, y ou can use different graphing backends, including Plotly, which is an interative option.\n",
        "\n",
        "`pd.options.plotting.backend = \"plotly\"`\n",
        "\n",
        "`df.plot(x=\"Time\", y=\"Profit\", kind=\"scatter\")`"
      ],
      "metadata": {
        "id": "vTAtShBwhWA-"
      }
    },
    {
      "cell_type": "code",
      "metadata": {
        "id": "ztUuogIwYOvs"
      },
      "source": [],
      "execution_count": null,
      "outputs": []
    },
    {
      "cell_type": "markdown",
      "metadata": {
        "id": "8Oc3FxHwgKRI"
      },
      "source": [
        "# Group Challenge: Movie Data\n",
        "Using the methods we learned about today, you will use your computational data skills to answer the following questions.\n",
        "\n",
        "\n",
        "1.   How many movies are in this data set? From what years?\n",
        "2.   What is the highest rated movie?\n",
        "3.   What is the average revenue of a movie from 2015?\n",
        "4.   Which year had the widest range of ratings? Use a scatter plot to determine your answer\n",
        "5.   Your group are the top executives of a movie studio. Your job is to create movies that have the highest overall revenue. Using at least one visualization and one pandas method, describe what kind of movie you will release.\n",
        "\n",
        "\n",
        "\n",
        "Read the [data dictionary](https://www.kaggle.com/PromptCloudHQ/imdb-data/version/1) to understand what is included\n",
        "\n"
      ]
    },
    {
      "cell_type": "code",
      "metadata": {
        "id": "hOmzUVqfUR8k"
      },
      "source": [
        "#import data\n",
        "movie_df = pd.read_csv(\"https://raw.githubusercontent.com/nanselmo/dc-data/main/IMDB-Movie-Data-2006-2016.csv\")\n"
      ],
      "execution_count": null,
      "outputs": []
    },
    {
      "cell_type": "markdown",
      "metadata": {
        "id": "gX48eddVQ-T6"
      },
      "source": [
        "#Extension: Spotify Data\n",
        "Use what you know about the pandas methods to explore a new data set: Spotify's top songs from 2020/2021.\n",
        "\n",
        "You can view the data dictionary [on Kaggle](https://www.kaggle.com/datasets/sashankpillai/spotify-top-200-charts-20202021)."
      ]
    },
    {
      "cell_type": "code",
      "source": [
        "#import data\n",
        "spotify_df = pd.read_csv(\"https://raw.githubusercontent.com/nanselmo/dc-data/main/spotify-top200-2020-2021.csv\")"
      ],
      "metadata": {
        "id": "QDMwFwUB_oWA"
      },
      "execution_count": null,
      "outputs": []
    }
  ]
}