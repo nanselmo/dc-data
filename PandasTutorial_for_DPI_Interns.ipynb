{
  "nbformat": 4,
  "nbformat_minor": 0,
  "metadata": {
    "colab": {
      "provenance": [],
      "include_colab_link": true
    },
    "kernelspec": {
      "name": "python3",
      "display_name": "Python 3"
    },
    "language_info": {
      "name": "python"
    }
  },
  "cells": [
    {
      "cell_type": "markdown",
      "metadata": {
        "id": "view-in-github",
        "colab_type": "text"
      },
      "source": [
        "<a href=\"https://colab.research.google.com/github/nanselmo/dc-data/blob/main/PandasTutorial_for_DPI_Interns.ipynb\" target=\"_parent\"><img src=\"https://colab.research.google.com/assets/colab-badge.svg\" alt=\"Open In Colab\"/></a>"
      ]
    },
    {
      "cell_type": "markdown",
      "metadata": {
        "id": "ZbYeLBO5pAd8"
      },
      "source": [
        "# Welcome to Computational Data with Python Pandas"
      ]
    },
    {
      "cell_type": "markdown",
      "metadata": {
        "id": "Nsqt5IyEpFpU"
      },
      "source": [
        "Let's start be reading the [data dictionary](https://github.com/fivethirtyeight/data/tree/master/candy-power-ranking) for this candy dataset.\n",
        "First we need to install the pandas code into our workspace by using the keyword `import`. We'll also give the pandas library a nickname, `pd`"
      ]
    },
    {
      "cell_type": "code",
      "metadata": {
        "id": "Qj5U5ntSXYQk"
      },
      "source": [
        "#tell our notebook to get the pandas library and to give it a nickname: 'pd'\n",
        "import pandas as pd"
      ],
      "execution_count": null,
      "outputs": []
    },
    {
      "cell_type": "code",
      "metadata": {
        "id": "fDg2bAE4XdNp"
      },
      "source": [
        "candy_df = pd.read_csv(\"https://raw.githubusercontent.com/nanselmo/dc-data/main/Candy-Power-Ranking.csv\")\n"
      ],
      "execution_count": null,
      "outputs": []
    },
    {
      "cell_type": "markdown",
      "metadata": {
        "id": "rj-fAf36i1qe"
      },
      "source": [
        "#0. View the Data\n",
        "Use the `.head()` method to view the data.\n",
        "\n",
        "`.head()` takes 1 optional parameter, the number of rows to show. If you don't include any parameter, the default number of rows is 5.\n",
        "\n",
        "Example: `df.head()`"
      ]
    },
    {
      "cell_type": "code",
      "metadata": {
        "id": "GodEvPT4pYj-"
      },
      "source": [
        "#talk about methods and parameters here"
      ],
      "execution_count": null,
      "outputs": []
    },
    {
      "cell_type": "markdown",
      "metadata": {
        "id": "ShiiRQvXbIGj"
      },
      "source": [
        "#1. Describe the Data\n",
        "Use `.describe()` to show a summary of the data. The `describe()` method does not need any parameters\n",
        "\n",
        "Example: `df.describe()`\n"
      ]
    },
    {
      "cell_type": "code",
      "metadata": {
        "id": "jSxlv1aiaSU_"
      },
      "source": [
        "#describe the candy_df\n"
      ],
      "execution_count": null,
      "outputs": []
    },
    {
      "cell_type": "markdown",
      "metadata": {
        "id": "gvyh_MU6bgCM"
      },
      "source": [
        "# 2. Sort the Data\n",
        " Use `.sort_values()` which takes two parameters:\n",
        "* by: the header of the column you want to sort with - should be put in quotes as a string\n",
        "* ascending: can set to True or False\n",
        "\n",
        "Example: `df.sort_values(by=\"Column1\", ascending=False)`"
      ]
    },
    {
      "cell_type": "code",
      "metadata": {
        "id": "u18UcgsmZlcM"
      },
      "source": [
        "#Sort the Data to find the three candies with the highest win percent\n",
        "\n",
        "\n",
        "#Sort to find the candy with the lowest sugar percent ()"
      ],
      "execution_count": null,
      "outputs": []
    },
    {
      "cell_type": "code",
      "metadata": {
        "id": "c5gThB9IdO9A"
      },
      "source": [],
      "execution_count": null,
      "outputs": []
    },
    {
      "cell_type": "markdown",
      "metadata": {
        "id": "KsUgfAQOdPbA"
      },
      "source": [
        "# 3. Find the Average Of A Grouping of Data\n",
        "Use `.groupby()` and `.mean()` to group data together and get the mean of that grouped data.\n",
        "* `groupby()` - takes 1 parameter, the header name of the column you want to group your data on\n",
        "* `mean()` - doesn't need any parameters\n",
        "\n",
        "Example: `df.group_by(\"ColumnName\").mean()`\n",
        "\n",
        "\n"
      ]
    },
    {
      "cell_type": "code",
      "metadata": {
        "id": "wBqTUQrOeHEG"
      },
      "source": [
        "#Group all of the chocolate candy together to gain insight into the characteristics, win percent, sugar percent and price percent of Chocolate candy vs non-chocolate candy\n",
        "\n",
        "\n",
        "#Group the bar candy together to see how candy bars compare to non candy-bars (ie M&Ms, Tootsie Pops)"
      ],
      "execution_count": null,
      "outputs": []
    },
    {
      "cell_type": "markdown",
      "metadata": {
        "id": "S_vHGrsSecHP"
      },
      "source": [
        "# 4. Visualize Data\n",
        "Use `.plot()` to create a quick graph of the data. `.plot()` takes three parameters:\n",
        "* x - the value on the X axis, the independent variable\n",
        "* y - the value on the Y axis, the dependent variable\n",
        "* kind - the kind of chart. In this workshop we'll use \"scatter\"\n",
        "\n",
        "Example: `df.plot(x=\"Time\", y=\"Profit\", kind=\"scatter\")`"
      ]
    },
    {
      "cell_type": "code",
      "metadata": {
        "id": "WhdJro7aVl6U"
      },
      "source": [
        "#Visualize Data to see if there's a relationship between sugar percentage and win percentage. What about price percent and win percentage?\n"
      ],
      "execution_count": null,
      "outputs": []
    },
    {
      "cell_type": "code",
      "metadata": {
        "id": "ztUuogIwYOvs"
      },
      "source": [],
      "execution_count": null,
      "outputs": []
    },
    {
      "cell_type": "markdown",
      "metadata": {
        "id": "8Oc3FxHwgKRI"
      },
      "source": [
        "# Group Challenge: Movie Data\n",
        "Using the methods we learned about today, you will use your computational data skills to answer the following questions.\n",
        "\n",
        "\n",
        "1.   How many movies are in this data set? From what years?\n",
        "2.   What is the highest rated movie?\n",
        "3.   What is the average revenue of a movie from 2015?\n",
        "4.   Which year had the widest range of ratings? Use a scatter plot to determine your answer\n",
        "5.   Your group are the top executives of a movie studio. Your job is to create movies that have the highest overall revenue. Using at least one visualization and one pandas method, describe what kind of movie you will release.\n",
        "\n",
        "\n",
        "\n",
        "Read the [data dictionary](https://www.kaggle.com/PromptCloudHQ/imdb-data/version/1) to understand what is included\n",
        "\n"
      ]
    },
    {
      "cell_type": "code",
      "metadata": {
        "id": "hOmzUVqfUR8k"
      },
      "source": [
        "#import data\n",
        "movie_df = pd.read_csv(\"https://raw.githubusercontent.com/nanselmo/dc-data/main/IMDB-Movie-Data-2006-2016.csv\")\n"
      ],
      "execution_count": null,
      "outputs": []
    },
    {
      "cell_type": "markdown",
      "metadata": {
        "id": "gX48eddVQ-T6"
      },
      "source": [
        "#Extension: Spotify Data\n",
        "Use what you know about the pandas methods to explore a new data set: Spotify's top songs from 2020/2021.\n",
        "\n",
        "You can view the data dictionary [on Kaggle](https://www.kaggle.com/datasets/sashankpillai/spotify-top-200-charts-20202021)."
      ]
    },
    {
      "cell_type": "code",
      "source": [
        "#import data\n",
        "spotify_df = pd.read_csv(\"https://raw.githubusercontent.com/nanselmo/dc-data/main/spotify-top200-2020-2021.csv\")\n"
      ],
      "metadata": {
        "colab": {
          "base_uri": "https://localhost:8080/",
          "height": 300
        },
        "id": "QDMwFwUB_oWA",
        "outputId": "89357097-644f-4d5b-ddae-dbed3fbd53ea"
      },
      "execution_count": null,
      "outputs": [
        {
          "output_type": "execute_result",
          "data": {
            "text/plain": [
              "             Index  Highest Charting Position  Number of Times Charted\n",
              "count  1556.000000                1556.000000              1556.000000\n",
              "mean    778.500000                  87.744216                10.668380\n",
              "std     449.322824                  58.147225                16.360546\n",
              "min       1.000000                   1.000000                 1.000000\n",
              "25%     389.750000                  37.000000                 1.000000\n",
              "50%     778.500000                  80.000000                 4.000000\n",
              "75%    1167.250000                 137.000000                12.000000\n",
              "max    1556.000000                 200.000000               142.000000"
            ],
            "text/html": [
              "\n",
              "  <div id=\"df-d5fe706a-d3bc-4d39-b5ff-3359b128c35a\" class=\"colab-df-container\">\n",
              "    <div>\n",
              "<style scoped>\n",
              "    .dataframe tbody tr th:only-of-type {\n",
              "        vertical-align: middle;\n",
              "    }\n",
              "\n",
              "    .dataframe tbody tr th {\n",
              "        vertical-align: top;\n",
              "    }\n",
              "\n",
              "    .dataframe thead th {\n",
              "        text-align: right;\n",
              "    }\n",
              "</style>\n",
              "<table border=\"1\" class=\"dataframe\">\n",
              "  <thead>\n",
              "    <tr style=\"text-align: right;\">\n",
              "      <th></th>\n",
              "      <th>Index</th>\n",
              "      <th>Highest Charting Position</th>\n",
              "      <th>Number of Times Charted</th>\n",
              "    </tr>\n",
              "  </thead>\n",
              "  <tbody>\n",
              "    <tr>\n",
              "      <th>count</th>\n",
              "      <td>1556.000000</td>\n",
              "      <td>1556.000000</td>\n",
              "      <td>1556.000000</td>\n",
              "    </tr>\n",
              "    <tr>\n",
              "      <th>mean</th>\n",
              "      <td>778.500000</td>\n",
              "      <td>87.744216</td>\n",
              "      <td>10.668380</td>\n",
              "    </tr>\n",
              "    <tr>\n",
              "      <th>std</th>\n",
              "      <td>449.322824</td>\n",
              "      <td>58.147225</td>\n",
              "      <td>16.360546</td>\n",
              "    </tr>\n",
              "    <tr>\n",
              "      <th>min</th>\n",
              "      <td>1.000000</td>\n",
              "      <td>1.000000</td>\n",
              "      <td>1.000000</td>\n",
              "    </tr>\n",
              "    <tr>\n",
              "      <th>25%</th>\n",
              "      <td>389.750000</td>\n",
              "      <td>37.000000</td>\n",
              "      <td>1.000000</td>\n",
              "    </tr>\n",
              "    <tr>\n",
              "      <th>50%</th>\n",
              "      <td>778.500000</td>\n",
              "      <td>80.000000</td>\n",
              "      <td>4.000000</td>\n",
              "    </tr>\n",
              "    <tr>\n",
              "      <th>75%</th>\n",
              "      <td>1167.250000</td>\n",
              "      <td>137.000000</td>\n",
              "      <td>12.000000</td>\n",
              "    </tr>\n",
              "    <tr>\n",
              "      <th>max</th>\n",
              "      <td>1556.000000</td>\n",
              "      <td>200.000000</td>\n",
              "      <td>142.000000</td>\n",
              "    </tr>\n",
              "  </tbody>\n",
              "</table>\n",
              "</div>\n",
              "    <div class=\"colab-df-buttons\">\n",
              "\n",
              "  <div class=\"colab-df-container\">\n",
              "    <button class=\"colab-df-convert\" onclick=\"convertToInteractive('df-d5fe706a-d3bc-4d39-b5ff-3359b128c35a')\"\n",
              "            title=\"Convert this dataframe to an interactive table.\"\n",
              "            style=\"display:none;\">\n",
              "\n",
              "  <svg xmlns=\"http://www.w3.org/2000/svg\" height=\"24px\" viewBox=\"0 -960 960 960\">\n",
              "    <path d=\"M120-120v-720h720v720H120Zm60-500h600v-160H180v160Zm220 220h160v-160H400v160Zm0 220h160v-160H400v160ZM180-400h160v-160H180v160Zm440 0h160v-160H620v160ZM180-180h160v-160H180v160Zm440 0h160v-160H620v160Z\"/>\n",
              "  </svg>\n",
              "    </button>\n",
              "\n",
              "  <style>\n",
              "    .colab-df-container {\n",
              "      display:flex;\n",
              "      gap: 12px;\n",
              "    }\n",
              "\n",
              "    .colab-df-convert {\n",
              "      background-color: #E8F0FE;\n",
              "      border: none;\n",
              "      border-radius: 50%;\n",
              "      cursor: pointer;\n",
              "      display: none;\n",
              "      fill: #1967D2;\n",
              "      height: 32px;\n",
              "      padding: 0 0 0 0;\n",
              "      width: 32px;\n",
              "    }\n",
              "\n",
              "    .colab-df-convert:hover {\n",
              "      background-color: #E2EBFA;\n",
              "      box-shadow: 0px 1px 2px rgba(60, 64, 67, 0.3), 0px 1px 3px 1px rgba(60, 64, 67, 0.15);\n",
              "      fill: #174EA6;\n",
              "    }\n",
              "\n",
              "    .colab-df-buttons div {\n",
              "      margin-bottom: 4px;\n",
              "    }\n",
              "\n",
              "    [theme=dark] .colab-df-convert {\n",
              "      background-color: #3B4455;\n",
              "      fill: #D2E3FC;\n",
              "    }\n",
              "\n",
              "    [theme=dark] .colab-df-convert:hover {\n",
              "      background-color: #434B5C;\n",
              "      box-shadow: 0px 1px 3px 1px rgba(0, 0, 0, 0.15);\n",
              "      filter: drop-shadow(0px 1px 2px rgba(0, 0, 0, 0.3));\n",
              "      fill: #FFFFFF;\n",
              "    }\n",
              "  </style>\n",
              "\n",
              "    <script>\n",
              "      const buttonEl =\n",
              "        document.querySelector('#df-d5fe706a-d3bc-4d39-b5ff-3359b128c35a button.colab-df-convert');\n",
              "      buttonEl.style.display =\n",
              "        google.colab.kernel.accessAllowed ? 'block' : 'none';\n",
              "\n",
              "      async function convertToInteractive(key) {\n",
              "        const element = document.querySelector('#df-d5fe706a-d3bc-4d39-b5ff-3359b128c35a');\n",
              "        const dataTable =\n",
              "          await google.colab.kernel.invokeFunction('convertToInteractive',\n",
              "                                                    [key], {});\n",
              "        if (!dataTable) return;\n",
              "\n",
              "        const docLinkHtml = 'Like what you see? Visit the ' +\n",
              "          '<a target=\"_blank\" href=https://colab.research.google.com/notebooks/data_table.ipynb>data table notebook</a>'\n",
              "          + ' to learn more about interactive tables.';\n",
              "        element.innerHTML = '';\n",
              "        dataTable['output_type'] = 'display_data';\n",
              "        await google.colab.output.renderOutput(dataTable, element);\n",
              "        const docLink = document.createElement('div');\n",
              "        docLink.innerHTML = docLinkHtml;\n",
              "        element.appendChild(docLink);\n",
              "      }\n",
              "    </script>\n",
              "  </div>\n",
              "\n",
              "\n",
              "    <div id=\"df-dd331620-4790-48bf-af28-6e1270b4a559\">\n",
              "      <button class=\"colab-df-quickchart\" onclick=\"quickchart('df-dd331620-4790-48bf-af28-6e1270b4a559')\"\n",
              "                title=\"Suggest charts\"\n",
              "                style=\"display:none;\">\n",
              "\n",
              "<svg xmlns=\"http://www.w3.org/2000/svg\" height=\"24px\"viewBox=\"0 0 24 24\"\n",
              "     width=\"24px\">\n",
              "    <g>\n",
              "        <path d=\"M19 3H5c-1.1 0-2 .9-2 2v14c0 1.1.9 2 2 2h14c1.1 0 2-.9 2-2V5c0-1.1-.9-2-2-2zM9 17H7v-7h2v7zm4 0h-2V7h2v10zm4 0h-2v-4h2v4z\"/>\n",
              "    </g>\n",
              "</svg>\n",
              "      </button>\n",
              "\n",
              "<style>\n",
              "  .colab-df-quickchart {\n",
              "      --bg-color: #E8F0FE;\n",
              "      --fill-color: #1967D2;\n",
              "      --hover-bg-color: #E2EBFA;\n",
              "      --hover-fill-color: #174EA6;\n",
              "      --disabled-fill-color: #AAA;\n",
              "      --disabled-bg-color: #DDD;\n",
              "  }\n",
              "\n",
              "  [theme=dark] .colab-df-quickchart {\n",
              "      --bg-color: #3B4455;\n",
              "      --fill-color: #D2E3FC;\n",
              "      --hover-bg-color: #434B5C;\n",
              "      --hover-fill-color: #FFFFFF;\n",
              "      --disabled-bg-color: #3B4455;\n",
              "      --disabled-fill-color: #666;\n",
              "  }\n",
              "\n",
              "  .colab-df-quickchart {\n",
              "    background-color: var(--bg-color);\n",
              "    border: none;\n",
              "    border-radius: 50%;\n",
              "    cursor: pointer;\n",
              "    display: none;\n",
              "    fill: var(--fill-color);\n",
              "    height: 32px;\n",
              "    padding: 0;\n",
              "    width: 32px;\n",
              "  }\n",
              "\n",
              "  .colab-df-quickchart:hover {\n",
              "    background-color: var(--hover-bg-color);\n",
              "    box-shadow: 0 1px 2px rgba(60, 64, 67, 0.3), 0 1px 3px 1px rgba(60, 64, 67, 0.15);\n",
              "    fill: var(--button-hover-fill-color);\n",
              "  }\n",
              "\n",
              "  .colab-df-quickchart-complete:disabled,\n",
              "  .colab-df-quickchart-complete:disabled:hover {\n",
              "    background-color: var(--disabled-bg-color);\n",
              "    fill: var(--disabled-fill-color);\n",
              "    box-shadow: none;\n",
              "  }\n",
              "\n",
              "  .colab-df-spinner {\n",
              "    border: 2px solid var(--fill-color);\n",
              "    border-color: transparent;\n",
              "    border-bottom-color: var(--fill-color);\n",
              "    animation:\n",
              "      spin 1s steps(1) infinite;\n",
              "  }\n",
              "\n",
              "  @keyframes spin {\n",
              "    0% {\n",
              "      border-color: transparent;\n",
              "      border-bottom-color: var(--fill-color);\n",
              "      border-left-color: var(--fill-color);\n",
              "    }\n",
              "    20% {\n",
              "      border-color: transparent;\n",
              "      border-left-color: var(--fill-color);\n",
              "      border-top-color: var(--fill-color);\n",
              "    }\n",
              "    30% {\n",
              "      border-color: transparent;\n",
              "      border-left-color: var(--fill-color);\n",
              "      border-top-color: var(--fill-color);\n",
              "      border-right-color: var(--fill-color);\n",
              "    }\n",
              "    40% {\n",
              "      border-color: transparent;\n",
              "      border-right-color: var(--fill-color);\n",
              "      border-top-color: var(--fill-color);\n",
              "    }\n",
              "    60% {\n",
              "      border-color: transparent;\n",
              "      border-right-color: var(--fill-color);\n",
              "    }\n",
              "    80% {\n",
              "      border-color: transparent;\n",
              "      border-right-color: var(--fill-color);\n",
              "      border-bottom-color: var(--fill-color);\n",
              "    }\n",
              "    90% {\n",
              "      border-color: transparent;\n",
              "      border-bottom-color: var(--fill-color);\n",
              "    }\n",
              "  }\n",
              "</style>\n",
              "\n",
              "      <script>\n",
              "        async function quickchart(key) {\n",
              "          const quickchartButtonEl =\n",
              "            document.querySelector('#' + key + ' button');\n",
              "          quickchartButtonEl.disabled = true;  // To prevent multiple clicks.\n",
              "          quickchartButtonEl.classList.add('colab-df-spinner');\n",
              "          try {\n",
              "            const charts = await google.colab.kernel.invokeFunction(\n",
              "                'suggestCharts', [key], {});\n",
              "          } catch (error) {\n",
              "            console.error('Error during call to suggestCharts:', error);\n",
              "          }\n",
              "          quickchartButtonEl.classList.remove('colab-df-spinner');\n",
              "          quickchartButtonEl.classList.add('colab-df-quickchart-complete');\n",
              "        }\n",
              "        (() => {\n",
              "          let quickchartButtonEl =\n",
              "            document.querySelector('#df-dd331620-4790-48bf-af28-6e1270b4a559 button');\n",
              "          quickchartButtonEl.style.display =\n",
              "            google.colab.kernel.accessAllowed ? 'block' : 'none';\n",
              "        })();\n",
              "      </script>\n",
              "    </div>\n",
              "\n",
              "    </div>\n",
              "  </div>\n"
            ],
            "application/vnd.google.colaboratory.intrinsic+json": {
              "type": "dataframe",
              "summary": "{\n  \"name\": \"spotify_df\",\n  \"rows\": 8,\n  \"fields\": [\n    {\n      \"column\": \"Index\",\n      \"properties\": {\n        \"dtype\": \"number\",\n        \"std\": 560.4851621621957,\n        \"min\": 1.0,\n        \"max\": 1556.0,\n        \"num_unique_values\": 6,\n        \"samples\": [\n          1556.0,\n          778.5,\n          1167.25\n        ],\n        \"semantic_type\": \"\",\n        \"description\": \"\"\n      }\n    },\n    {\n      \"column\": \"Highest Charting Position\",\n      \"properties\": {\n        \"dtype\": \"number\",\n        \"std\": 523.3453600356092,\n        \"min\": 1.0,\n        \"max\": 1556.0,\n        \"num_unique_values\": 8,\n        \"samples\": [\n          87.74421593830334,\n          80.0,\n          1556.0\n        ],\n        \"semantic_type\": \"\",\n        \"description\": \"\"\n      }\n    },\n    {\n      \"column\": \"Number of Times Charted\",\n      \"properties\": {\n        \"dtype\": \"number\",\n        \"std\": 542.7541869536095,\n        \"min\": 1.0,\n        \"max\": 1556.0,\n        \"num_unique_values\": 7,\n        \"samples\": [\n          1556.0,\n          10.668380462724937,\n          12.0\n        ],\n        \"semantic_type\": \"\",\n        \"description\": \"\"\n      }\n    }\n  ]\n}"
            }
          },
          "metadata": {},
          "execution_count": 7
        }
      ]
    }
  ]
}